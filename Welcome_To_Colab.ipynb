{
  "cells": [
    {
      "cell_type": "markdown",
      "metadata": {
        "id": "view-in-github",
        "colab_type": "text"
      },
      "source": [
        "<a href=\"https://colab.research.google.com/github/pullakkagarisaiteja/CN7030-2425-Machine-Learning-on-Big-Data-/blob/main/Welcome_To_Colab.ipynb\" target=\"_parent\"><img src=\"https://colab.research.google.com/assets/colab-badge.svg\" alt=\"Open In Colab\"/></a>"
      ]
    },
    {
      "cell_type": "code",
      "source": [
        "# install pyspark\n",
        "!pip3 install pyspark"
      ],
      "metadata": {
        "colab": {
          "base_uri": "https://localhost:8080/"
        },
        "id": "3sEwMcP7lgJZ",
        "outputId": "4a9a5a3d-8c4a-45fa-ef7a-929435224596"
      },
      "execution_count": 1,
      "outputs": [
        {
          "output_type": "stream",
          "name": "stdout",
          "text": [
            "Requirement already satisfied: pyspark in /usr/local/lib/python3.11/dist-packages (3.5.1)\n",
            "Requirement already satisfied: py4j==0.10.9.7 in /usr/local/lib/python3.11/dist-packages (from pyspark) (0.10.9.7)\n"
          ]
        }
      ]
    },
    {
      "cell_type": "code",
      "source": [
        "#initialize SparkSession and installed Required Libraries\n",
        "from pyspark.sql import SparkSession\n",
        "from pyspark.ml.feature import VectorAssembler, StandardScaler\n",
        "from pyspark.ml.regression import LinearRegression\n",
        "from pyspark.ml.evaluation import RegressionEvaluator\n",
        "\n",
        "# Initialize SparkSession\n",
        "spark = SparkSession.builder \\\n",
        "                    .appName(\"LinearRegression_spark\") \\\n",
        "                    .master(\"local[*]\") \\\n",
        "                    .config(\"spark.executor.memory\", \"4g\") \\\n",
        "                    .config(\"spark.driver.memory\", \"2g\") \\\n",
        "                    .config(\"spark.executor.cores\", \"2\") \\\n",
        "                    .config(\"spark.sql.inMemoryColumnarStorage.compressed\", \"true\") \\\n",
        "                    .getOrCreate()\n",
        "\n",
        "\n",
        "spark"
      ],
      "metadata": {
        "colab": {
          "base_uri": "https://localhost:8080/",
          "height": 219
        },
        "id": "-uIzWpKcln2u",
        "outputId": "b32124de-3080-4330-ef50-cf9312709c95"
      },
      "execution_count": 60,
      "outputs": [
        {
          "output_type": "execute_result",
          "data": {
            "text/plain": [
              "<pyspark.sql.session.SparkSession at 0x79f9e86f5c90>"
            ],
            "text/html": [
              "\n",
              "            <div>\n",
              "                <p><b>SparkSession - in-memory</b></p>\n",
              "                \n",
              "        <div>\n",
              "            <p><b>SparkContext</b></p>\n",
              "\n",
              "            <p><a href=\"http://08267c69e57d:4040\">Spark UI</a></p>\n",
              "\n",
              "            <dl>\n",
              "              <dt>Version</dt>\n",
              "                <dd><code>v3.5.1</code></dd>\n",
              "              <dt>Master</dt>\n",
              "                <dd><code>local[*]</code></dd>\n",
              "              <dt>AppName</dt>\n",
              "                <dd><code>LinearRegression_spark</code></dd>\n",
              "            </dl>\n",
              "        </div>\n",
              "        \n",
              "            </div>\n",
              "        "
            ]
          },
          "metadata": {},
          "execution_count": 60
        }
      ]
    },
    {
      "cell_type": "code",
      "source": [
        "print(f\"Spark UI available at: {spark.sparkContext.uiWebUrl}\")"
      ],
      "metadata": {
        "colab": {
          "base_uri": "https://localhost:8080/"
        },
        "id": "Uz1L02RPl8BY",
        "outputId": "d501b9a0-f053-4a15-e93a-5eeffa9c322a"
      },
      "execution_count": 61,
      "outputs": [
        {
          "output_type": "stream",
          "name": "stdout",
          "text": [
            "Spark UI available at: http://08267c69e57d:4040\n"
          ]
        }
      ]
    },
    {
      "cell_type": "code",
      "source": [
        "spark.sparkContext.setLogLevel(\"INFO\")"
      ],
      "metadata": {
        "id": "gpRy95rsmLL9"
      },
      "execution_count": 4,
      "outputs": []
    },
    {
      "cell_type": "code",
      "source": [
        "import psutil\n",
        "print(f\"CPU Usage: {psutil.cpu_percent()}%\")\n",
        "print(f\"Memory Usage: {psutil.virtual_memory().percent}%\")"
      ],
      "metadata": {
        "colab": {
          "base_uri": "https://localhost:8080/"
        },
        "id": "w9k20KEkmOog",
        "outputId": "156507eb-0b2f-49c5-df22-3143c506ea58"
      },
      "execution_count": 5,
      "outputs": [
        {
          "output_type": "stream",
          "name": "stdout",
          "text": [
            "CPU Usage: 21.7%\n",
            "Memory Usage: 10.6%\n"
          ]
        }
      ]
    },
    {
      "cell_type": "code",
      "source": [
        "# Mount Gdrive\n",
        "from google.colab import drive\n",
        "drive.mount('/content/drive')"
      ],
      "metadata": {
        "colab": {
          "base_uri": "https://localhost:8080/"
        },
        "id": "tuzXQC0Umio_",
        "outputId": "5a7ad515-6a9b-4493-a670-3460481c36da"
      },
      "execution_count": 7,
      "outputs": [
        {
          "output_type": "stream",
          "name": "stdout",
          "text": [
            "Mounted at /content/drive\n"
          ]
        }
      ]
    },
    {
      "cell_type": "code",
      "source": [
        "# Load the data from a CSV file\n",
        "df = spark.read.csv(\"/content/property.csv\", header=True, inferSchema=True)\n",
        "\n",
        "# get familiar with data\n",
        "df.show()\n",
        "\n",
        "# more info\n",
        "print(\"Total Records\",df.count())\n",
        "print(\"Total Partitions \",df.rdd.getNumPartitions())"
      ],
      "metadata": {
        "colab": {
          "base_uri": "https://localhost:8080/"
        },
        "id": "9aCK36qTm-TI",
        "outputId": "42ce7aaf-9d68-4e9c-a4a0-04e0a061da23"
      },
      "execution_count": 62,
      "outputs": [
        {
          "output_type": "stream",
          "name": "stdout",
          "text": [
            "+--------------+------------+-------------+----------+--------+------------------+\n",
            "|Square_Footage|Num_Bedrooms|Num_Bathrooms|Year_Built|Lot_Size|             Price|\n",
            "+--------------+------------+-------------+----------+--------+------------------+\n",
            "|          1360|           2|            3|      1953|    7860| 303948.1373854071|\n",
            "|          4272|           3|            3|      1997|    5292| 860386.2685075302|\n",
            "|          3592|           4|            1|      1983|    9723| 734389.7538956215|\n",
            "|           966|           6|            1|      1903|    4086| 226448.8070714377|\n",
            "|          4926|           6|            4|      1944|    1081|1022486.2616704078|\n",
            "|          3944|           6|            2|      1938|    3542| 845638.1354384426|\n",
            "|          3671|           2|            1|      1963|    5105| 748779.2192281872|\n",
            "|          3419|           4|            2|      1925|    5448| 743007.2614135538|\n",
            "|           630|           2|            2|      2012|    3204| 135656.4528785377|\n",
            "|          2185|           2|            2|      1921|    7191|480153.16300188465|\n",
            "|          1269|           4|            1|      1953|    9638| 273298.1781911301|\n",
            "|          2891|           6|            2|      1991|    4596|  602871.110555334|\n",
            "|          2933|           5|            1|      1966|    4958| 636462.8293225713|\n",
            "|          1684|           2|            3|      1950|    8724|397958.90799311374|\n",
            "|          3885|           5|            2|      2021|    4695| 810991.7677926597|\n",
            "|          4617|           3|            2|      1943|    1920| 949862.1850290807|\n",
            "|          3404|           2|            3|      1923|    4183| 689906.1306948366|\n",
            "|           974|           3|            2|      2018|    8034|   199985.65592338|\n",
            "|          1582|           1|            4|      1944|    8649| 330837.2755710519|\n",
            "|          3058|           1|            2|      1952|    2572| 604113.6363094774|\n",
            "+--------------+------------+-------------+----------+--------+------------------+\n",
            "only showing top 20 rows\n",
            "\n",
            "Total Records 1000000\n",
            "Total Partitions  2\n"
          ]
        }
      ]
    },
    {
      "cell_type": "code",
      "source": [
        "# show Schema,Prints the structure of the dataset\n",
        "df.printSchema()"
      ],
      "metadata": {
        "colab": {
          "base_uri": "https://localhost:8080/"
        },
        "id": "0wRx2S4frJK_",
        "outputId": "b516869f-fe25-4790-e697-64afbd230148"
      },
      "execution_count": 63,
      "outputs": [
        {
          "output_type": "stream",
          "name": "stdout",
          "text": [
            "root\n",
            " |-- Square_Footage: integer (nullable = true)\n",
            " |-- Num_Bedrooms: integer (nullable = true)\n",
            " |-- Num_Bathrooms: integer (nullable = true)\n",
            " |-- Year_Built: integer (nullable = true)\n",
            " |-- Lot_Size: integer (nullable = true)\n",
            " |-- Price: double (nullable = true)\n",
            "\n"
          ]
        }
      ]
    },
    {
      "cell_type": "code",
      "source": [
        "#Statistical Analysis\n",
        "df.describe().show()"
      ],
      "metadata": {
        "colab": {
          "base_uri": "https://localhost:8080/"
        },
        "id": "t_Ef9Vb5tF7x",
        "outputId": "13fb01bf-f55c-4a48-94e6-6a2e1b4ffcd9"
      },
      "execution_count": 64,
      "outputs": [
        {
          "output_type": "stream",
          "name": "stdout",
          "text": [
            "+-------+-----------------+-----------------+------------------+-----------------+-----------------+------------------+\n",
            "|summary|   Square_Footage|     Num_Bedrooms|     Num_Bathrooms|       Year_Built|         Lot_Size|             Price|\n",
            "+-------+-----------------+-----------------+------------------+-----------------+-----------------+------------------+\n",
            "|  count|          1000000|          1000000|           1000000|          1000000|          1000000|           1000000|\n",
            "|   mean|      2750.657104|         3.501114|          2.500439|       1960.52736|      5502.373911| 581839.6653163614|\n",
            "| stddev|1298.569362387213|1.708173784151257|1.1178528780094728|35.21780350510348|2598.885882999355|260685.36722644986|\n",
            "|    min|              500|                1|                 1|             1900|             1000| 51495.71116919513|\n",
            "|    max|             4999|                6|                 4|             2021|             9999|1123219.4691521737|\n",
            "+-------+-----------------+-----------------+------------------+-----------------+-----------------+------------------+\n",
            "\n"
          ]
        }
      ]
    },
    {
      "cell_type": "code",
      "source": [
        "print(f\"CPU Usage after openig the csv file: {psutil.cpu_percent()}%\")\n",
        "print(f\"Memory Usage after csv file: {psutil.virtual_memory().percent}%\")"
      ],
      "metadata": {
        "colab": {
          "base_uri": "https://localhost:8080/"
        },
        "id": "-b6xEL1ktWEF",
        "outputId": "6625df6c-1ca7-4941-c9ac-3cd91d3b2f1b"
      },
      "execution_count": 65,
      "outputs": [
        {
          "output_type": "stream",
          "name": "stdout",
          "text": [
            "CPU Usage after openig the csv file: 34.4%\n",
            "Memory Usage after csv file: 17.6%\n"
          ]
        }
      ]
    },
    {
      "cell_type": "code",
      "source": [
        "# check missing or null values for each column\n",
        "from pyspark.sql.functions import col,isnan, when, count\n",
        "df.select([count(when(isnan(c) | col(c).isNull(), c))\n",
        ".alias(c) for c in df.columns]).show()"
      ],
      "metadata": {
        "colab": {
          "base_uri": "https://localhost:8080/"
        },
        "id": "gUPwPRf5tcXA",
        "outputId": "662eafed-6b78-4888-f2e1-8b4d3c27c644"
      },
      "execution_count": 66,
      "outputs": [
        {
          "output_type": "stream",
          "name": "stdout",
          "text": [
            "+--------------+------------+-------------+----------+--------+-----+\n",
            "|Square_Footage|Num_Bedrooms|Num_Bathrooms|Year_Built|Lot_Size|Price|\n",
            "+--------------+------------+-------------+----------+--------+-----+\n",
            "|             0|           0|            0|         0|       0|    0|\n",
            "+--------------+------------+-------------+----------+--------+-----+\n",
            "\n"
          ]
        }
      ]
    },
    {
      "cell_type": "code",
      "source": [
        "from pyspark.ml.feature import VectorAssembler\n",
        "assembler = VectorAssembler(inputCols = [\"Square_Footage\", \"Num_Bedrooms\", \"Num_Bathrooms\",\"Year_Built\",\"Lot_Size\",\"Price\"],\n",
        "                           outputCol = \"Features\")"
      ],
      "metadata": {
        "id": "elmawjLutjIz"
      },
      "execution_count": 67,
      "outputs": []
    },
    {
      "cell_type": "code",
      "source": [
        "#StandardScaler\n",
        "scaler = StandardScaler(inputCol = \"Features\",\n",
        "                        outputCol = \"scaled_Features\")"
      ],
      "metadata": {
        "id": "2N2Mu-LewBHZ"
      },
      "execution_count": 35,
      "outputs": []
    },
    {
      "cell_type": "code",
      "source": [
        "#create linear regression model.\n",
        "regressor = LinearRegression(labelCol = 'Price',\n",
        "                             featuresCol = 'scaled_Features'\n",
        "                             )"
      ],
      "metadata": {
        "id": "qEWsSkf6wD2I"
      },
      "execution_count": 68,
      "outputs": []
    },
    {
      "cell_type": "code",
      "source": [
        "print(f\"CPU Usage after openig the csv file: {psutil.cpu_percent()}%\")\n",
        "print(f\"Memory Usage after csv file: {psutil.virtual_memory().percent}%\")"
      ],
      "metadata": {
        "colab": {
          "base_uri": "https://localhost:8080/"
        },
        "id": "BjWB0LdzwHD2",
        "outputId": "40541244-e74c-4312-fd87-a7f43a038082"
      },
      "execution_count": 70,
      "outputs": [
        {
          "output_type": "stream",
          "name": "stdout",
          "text": [
            "CPU Usage after openig the csv file: 14.6%\n",
            "Memory Usage after csv file: 18.2%\n"
          ]
        }
      ]
    },
    {
      "cell_type": "code",
      "source": [
        "from pyspark.ml import Pipeline\n",
        "pipeline  = Pipeline(stages = [assembler,scaler,regressor])\n",
        "#--Saving the Pipeline\n",
        "pipeline.write().overwrite().save(\"pipeline_LRsaved_model\")"
      ],
      "metadata": {
        "id": "s0HaBXnMwKAt"
      },
      "execution_count": 71,
      "outputs": []
    },
    {
      "cell_type": "code",
      "source": [
        "print(f\"CPU Usage after openig the csv file: {psutil.cpu_percent()}%\")\n",
        "print(f\"Memory Usage after csv file: {psutil.virtual_memory().percent}%\")"
      ],
      "metadata": {
        "colab": {
          "base_uri": "https://localhost:8080/"
        },
        "id": "lv8U3KS-wQrf",
        "outputId": "a7ec2462-5a3e-44ed-9b31-202ed7a28c7d"
      },
      "execution_count": 72,
      "outputs": [
        {
          "output_type": "stream",
          "name": "stdout",
          "text": [
            "CPU Usage after openig the csv file: 17.7%\n",
            "Memory Usage after csv file: 18.2%\n"
          ]
        }
      ]
    },
    {
      "cell_type": "code",
      "source": [
        "#Loading the Pipeline\n",
        "\n",
        "pipelineModel = Pipeline.load('./pipeline_LRsaved_model')"
      ],
      "metadata": {
        "id": "1g6m3O2VwWiw"
      },
      "execution_count": 73,
      "outputs": []
    },
    {
      "cell_type": "code",
      "source": [
        "data_train , data_test = df.randomSplit([0.7,0.3], seed = 123)"
      ],
      "metadata": {
        "id": "l2ohajSmweuN"
      },
      "execution_count": 74,
      "outputs": []
    },
    {
      "cell_type": "code",
      "source": [
        "print(f\"CPU Usage after openig the csv file: {psutil.cpu_percent()}%\")\n",
        "print(f\"Memory Usage after csv file: {psutil.virtual_memory().percent}%\")"
      ],
      "metadata": {
        "colab": {
          "base_uri": "https://localhost:8080/"
        },
        "id": "UCjncxsAw3RD",
        "outputId": "068d0210-d149-457e-c560-fe0e4495dbd8"
      },
      "execution_count": 75,
      "outputs": [
        {
          "output_type": "stream",
          "name": "stdout",
          "text": [
            "CPU Usage after openig the csv file: 57.9%\n",
            "Memory Usage after csv file: 18.4%\n"
          ]
        }
      ]
    },
    {
      "cell_type": "code",
      "source": [
        "Model = pipeline.fit(data_train)"
      ],
      "metadata": {
        "id": "dfjkTbcSxiRO"
      },
      "execution_count": 76,
      "outputs": []
    },
    {
      "cell_type": "code",
      "source": [
        "print(f\"CPU Usage after openig the csv file: {psutil.cpu_percent()}%\")\n",
        "print(f\"Memory Usage after csv file: {psutil.virtual_memory().percent}%\")"
      ],
      "metadata": {
        "colab": {
          "base_uri": "https://localhost:8080/"
        },
        "id": "5X7VRbyeyNL3",
        "outputId": "832df29f-116c-4433-aab1-639371f75528"
      },
      "execution_count": 77,
      "outputs": [
        {
          "output_type": "stream",
          "name": "stdout",
          "text": [
            "CPU Usage after openig the csv file: 91.8%\n",
            "Memory Usage after csv file: 18.5%\n"
          ]
        }
      ]
    },
    {
      "cell_type": "code",
      "source": [
        "print(\"total LR cofficents\",len(Model.stages[2].coefficients) )\n",
        "print(\"Cofficientents\",Model.stages[2].coefficients)\n",
        "print(\"Intecept\",Model.stages[2].intercept)"
      ],
      "metadata": {
        "colab": {
          "base_uri": "https://localhost:8080/"
        },
        "id": "ZbTB4qh-yQLT",
        "outputId": "b9e71c91-b470-4e6c-9fca-1076e2e0324f"
      },
      "execution_count": 78,
      "outputs": [
        {
          "output_type": "stream",
          "name": "stdout",
          "text": [
            "total LR cofficents 6\n",
            "Cofficientents [-1.4597928877506778e-06,-3.5146841056385616e-08,-1.2636801886279531e-08,1.7753088636142828e-07,1.883210751840152e-08,260678.5660076505]\n",
            "Intecept -1.0061060249262389e-05\n"
          ]
        }
      ]
    },
    {
      "cell_type": "code",
      "source": [
        "#n the prediction phase, we test our model on some unseen data.\n",
        "pred = Model.transform(data_test)\n",
        "pred.select('prediction', 'Price').show(10, truncate = False)"
      ],
      "metadata": {
        "colab": {
          "base_uri": "https://localhost:8080/"
        },
        "id": "qQprpNFeyTfh",
        "outputId": "29097a36-3294-48a6-f9bf-29a7f66e7576"
      },
      "execution_count": 79,
      "outputs": [
        {
          "output_type": "stream",
          "name": "stdout",
          "text": [
            "+------------------+------------------+\n",
            "|prediction        |Price             |\n",
            "+------------------+------------------+\n",
            "|117632.63219933254|117632.63219959654|\n",
            "|106670.25438515098|106670.25438504865|\n",
            "|117919.45375856124|117919.45375887671|\n",
            "|119893.50473273186|119893.50473253023|\n",
            "|115218.14440396686|115218.14440379351|\n",
            "|142918.60554288875|142918.60554292126|\n",
            "|95443.54011647665 |95443.54011673816 |\n",
            "|75029.23686158785 |75029.23686169085 |\n",
            "|128827.18170759646|128827.18170769783|\n",
            "|131723.4490399875 |131723.44904010184|\n",
            "+------------------+------------------+\n",
            "only showing top 10 rows\n",
            "\n"
          ]
        }
      ]
    },
    {
      "cell_type": "code",
      "source": [
        "#create linear regression model.\n",
        "Lasoregressor = LinearRegression(labelCol = 'Price',\n",
        "                             featuresCol = 'scaled_Features',\n",
        "                             elasticNetParam=1,\n",
        "                             regParam=0.1\n",
        "                             )\n",
        "Lasaopipeline  = Pipeline(stages = [assembler,scaler,Lasoregressor])\n",
        "LassoModel = Lasaopipeline.fit(data_train)"
      ],
      "metadata": {
        "id": "DpAQEKz_ygrB"
      },
      "execution_count": 80,
      "outputs": []
    },
    {
      "cell_type": "code",
      "source": [
        "print(f\"CPU Usage after openig the csv file: {psutil.cpu_percent()}%\")\n",
        "print(f\"Memory Usage after csv file: {psutil.virtual_memory().percent}%\")"
      ],
      "metadata": {
        "colab": {
          "base_uri": "https://localhost:8080/"
        },
        "id": "SmhiRBsf1nQk",
        "outputId": "81a77ee8-de97-4bdb-967f-3b527f395297"
      },
      "execution_count": 81,
      "outputs": [
        {
          "output_type": "stream",
          "name": "stdout",
          "text": [
            "CPU Usage after openig the csv file: 97.1%\n",
            "Memory Usage after csv file: 18.2%\n"
          ]
        }
      ]
    },
    {
      "cell_type": "code",
      "source": [
        "#n the prediction phase, we test our model on some unseen data.\n",
        "lassopred = LassoModel.transform(data_test)\n",
        "lassopred.select('prediction', 'Price').show(10, truncate = False)"
      ],
      "metadata": {
        "colab": {
          "base_uri": "https://localhost:8080/"
        },
        "id": "S-pmQhYA1qwy",
        "outputId": "bd554192-30b1-40f1-d41e-5a4b4febe9ed"
      },
      "execution_count": 82,
      "outputs": [
        {
          "output_type": "stream",
          "name": "stdout",
          "text": [
            "+------------------+------------------+\n",
            "|prediction        |Price             |\n",
            "+------------------+------------------+\n",
            "|117865.1250943526 |117632.63219959654|\n",
            "|107822.86196143829|106670.25438504865|\n",
            "|119904.75326061211|117919.45375887671|\n",
            "|117562.37474359476|119893.50473253023|\n",
            "|115027.9382832686 |115218.14440379351|\n",
            "|137148.23142596747|142918.60554292126|\n",
            "|104452.42723755688|95443.54011673816 |\n",
            "|88657.40457025377 |75029.23686169085 |\n",
            "|127422.78042103843|128827.18170769783|\n",
            "|130383.81735629286|131723.44904010184|\n",
            "+------------------+------------------+\n",
            "only showing top 10 rows\n",
            "\n"
          ]
        }
      ]
    },
    {
      "cell_type": "code",
      "source": [
        "#create linear regression model.\n",
        "Ridgeregressor = LinearRegression(labelCol = 'Price',\n",
        "                             featuresCol = 'scaled_Features',\n",
        "                             elasticNetParam=0,\n",
        "                             regParam=0.1\n",
        "                             )\n",
        "Ridgepipeline  = Pipeline(stages = [assembler,scaler,Ridgeregressor])\n",
        "RidgeModel = Ridgepipeline.fit(data_train)"
      ],
      "metadata": {
        "id": "l8gfyUzC11i6"
      },
      "execution_count": 52,
      "outputs": []
    },
    {
      "cell_type": "code",
      "source": [
        "#n the prediction phase, we test our model on some unseen data.\n",
        "Ridgepred = RidgeModel.transform(data_test)\n",
        "Ridgepred.select('prediction', 'Price').show(10, truncate = False)"
      ],
      "metadata": {
        "colab": {
          "base_uri": "https://localhost:8080/"
        },
        "id": "ySC6Q1py2D-4",
        "outputId": "9b2116bc-cdf7-4582-8c4b-61b223c25409"
      },
      "execution_count": 54,
      "outputs": [
        {
          "output_type": "stream",
          "name": "stdout",
          "text": [
            "+------------------+------------------+\n",
            "|prediction        |Price             |\n",
            "+------------------+------------------+\n",
            "|117632.66402244041|117632.63219959654|\n",
            "|106670.45946237333|106670.25438504865|\n",
            "|117919.82387435198|117919.45375887671|\n",
            "|119893.04361457757|119893.50473253023|\n",
            "|115218.09475159772|115218.14440379351|\n",
            "|142917.49094270985|142918.60554292126|\n",
            "|95445.25419980078 |95443.54011673816 |\n",
            "|75031.83383794635 |75029.23686169085 |\n",
            "|128826.90148789567|128827.18170769783|\n",
            "|131723.18284653392|131723.44904010184|\n",
            "+------------------+------------------+\n",
            "only showing top 10 rows\n",
            "\n"
          ]
        }
      ]
    },
    {
      "cell_type": "code",
      "source": [
        "#Model Evaluation Spark Provides evaluation metrics\n",
        "#for regression and classification tasks.\n",
        "from pyspark.ml.evaluation import RegressionEvaluator\n",
        "evaluator_mse = RegressionEvaluator(labelCol =\n",
        "                                    'Price',\n",
        "                                    predictionCol =\n",
        "                                    'prediction',\n",
        "                                    metricName =\n",
        "                                    'mse')\n",
        "# calculate MSE\n",
        "mse1 = evaluator_mse.evaluate(pred)\n",
        "mselasso = evaluator_mse.evaluate(lassopred)\n",
        "mseridge = evaluator_mse.evaluate(Ridgepred)\n",
        "\n",
        "evaluator_rmse = RegressionEvaluator(labelCol =\n",
        "                                     'Price',\n",
        "                                     predictionCol =\n",
        "                                     'prediction',\n",
        "                                     metricName =\n",
        "                                     'rmse')\n",
        "# calculate RMSE\n",
        "rmse1 = evaluator_rmse.evaluate(pred)\n",
        "rmse2_lasso = evaluator_rmse.evaluate(lassopred)\n",
        "rmse3Ridge = evaluator_rmse.evaluate(Ridgepred)\n",
        "\n",
        "evaluator_r2 = RegressionEvaluator(labelCol = 'Price',\n",
        "                                   predictionCol = 'prediction',\n",
        "                                   metricName = 'r2')\n",
        "# calculate R_squared\n",
        "r2_score1 = evaluator_r2.evaluate(pred)\n",
        "r2_lasso = evaluator_r2.evaluate(lassopred)\n",
        "r2_ridge = evaluator_r2.evaluate(Ridgepred)\n",
        "\n",
        "evaluator_mae = RegressionEvaluator(labelCol = 'Price',\n",
        "                                    predictionCol = 'prediction',\n",
        "                                    metricName = 'mae')\n",
        "# calculate MAE\n",
        "mae1 = evaluator_mae.evaluate(pred)\n",
        "maelasso = evaluator_mae.evaluate(lassopred)\n",
        "maeridge = evaluator_mae.evaluate(Ridgepred)\n",
        "\n",
        "\n",
        "# print the evaluation metrics\n",
        "print('Regression - MSE: ', mse1, ', RMSE: ', rmse1, ', R^2: ', r2_score1, ', MAE: ', mae1)\n",
        "print('Lasso - MSE: ', mselasso, ', RMSE: ', rmse2_lasso, ', R^2: ', r2_lasso, ', MAE: ', maelasso)\n",
        "print('Ridge - MSE: ', mseridge, ', RMSE: ', rmse3Ridge, ', R^2: ', r2_ridge, ', MAE: ', maeridge)"
      ],
      "metadata": {
        "colab": {
          "base_uri": "https://localhost:8080/"
        },
        "id": "f9W5I36Q2Un_",
        "outputId": "1646776f-7a8f-4787-d1b3-02d5e2ef3151"
      },
      "execution_count": 58,
      "outputs": [
        {
          "output_type": "stream",
          "name": "stdout",
          "text": [
            "Regression - MSE:  3.903843172336979e-14 , RMSE:  1.9758145591975423e-07 , R^2:  1.0 , MAE:  1.6233466735170593e-07\n",
            "Lasso - MSE:  45938250.20878146 , RMSE:  6777.7761993725835 , R^2:  0.9993240889793171 , MAE:  5411.397683399603\n",
            "Ridge - MSE:  1.6874276839011937 , RMSE:  1.2990102708990385 , R^2:  0.9999999999751721 , MAE:  1.0371305269102158\n"
          ]
        }
      ]
    },
    {
      "cell_type": "code",
      "source": [
        "# plot\n",
        "import matplotlib.pyplot as plt\n",
        "import numpy as np\n",
        "\n",
        "mse = [mse1, mselasso, mseridge]\n",
        "rmse = [rmse1, rmse2_lasso, rmse3Ridge]\n",
        "r2_score = [r2_score1, rmse2_lasso, r2_ridge]\n",
        "\n",
        "positions = np.arange(len(mse))\n",
        "bar_width = 0.2\n",
        "\n",
        "plt.bar(positions - bar_width, mse, width = bar_width, label = 'MSE')\n",
        "plt.bar(positions, rmse, width = bar_width, label = 'RMSE')\n",
        "plt.bar(positions + bar_width, r2_score, width = bar_width, label = 'R2_Score')\n",
        "\n",
        "# adding labels and title\n",
        "plt.xlabel('Model')\n",
        "plt.ylabel('Scores')\n",
        "plt.title('Comparison of Regression Metrics')\n",
        "\n",
        "# adding the legend\n",
        "plt.legend()\n",
        "plt.xticks(positions, ['Regression', 'Lasso', 'Ridge'])\n",
        "plt.show()\n"
      ],
      "metadata": {
        "colab": {
          "base_uri": "https://localhost:8080/",
          "height": 472
        },
        "id": "8_srjsOa3FCv",
        "outputId": "a1d5869d-e67c-4bd1-f3b1-4d35294883dd"
      },
      "execution_count": 59,
      "outputs": [
        {
          "output_type": "display_data",
          "data": {
            "text/plain": [
              "<Figure size 640x480 with 1 Axes>"
            ],
            "image/png": "[encoded data removed]"
          },
          "metadata": {}
        }
      ]
    },
    {
      "cell_type": "code",
      "source": [],
      "metadata": {
        "id": "0uX3Fw0_3HiF"
      },
      "execution_count": null,
      "outputs": []
    }
  ],
  "metadata": {
    "colab": {
      "name": "Welcome To Colab",
      "provenance": [],
      "include_colab_link": true
    },
    "kernelspec": {
      "display_name": "Python 3",
      "name": "python3"
    }
  },
  "nbformat": 4,
  "nbformat_minor": 0
}